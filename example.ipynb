{
 "cells": [
  {
   "cell_type": "code",
   "execution_count": 71,
   "metadata": {},
   "outputs": [],
   "source": [
    "import numpy as np\n",
    "import keras\n",
    "import keras.optimizers\n",
    "from keras.models import Sequential\n",
    "from keras.models import model_from_json\n",
    "from keras.layers import Dense, Activation, MaxPooling2D,Dropout,Conv2D,BatchNormalization,Reshape,UpSampling2D,ZeroPadding2D,Conv2DTranspose\n",
    "from keras.backend import resize_images\n",
    "from sklearn.utils import class_weight\n",
    "import json\n",
    "import time\n",
    "import os\n",
    "from keras.utils.vis_utils import plot_model\n",
    "import matplotlib.pyplot as plt\n",
    "import scipy.io\n",
    "import glob\n",
    "import numpy as np\n",
    "import scipy.stats"
   ]
  },
  {
   "cell_type": "code",
   "execution_count": 3,
   "metadata": {},
   "outputs": [
    {
     "name": "stdout",
     "output_type": "stream",
     "text": [
      "/home/sarisadiya/Projects/ECR/eeg-channel-interpolation-using-deep-encoder-decoder-networks\n"
     ]
    }
   ],
   "source": [
    "cd ../eeg-channel-interpolation-using-deep-encoder-decoder-networks/"
   ]
  },
  {
   "cell_type": "code",
   "execution_count": 72,
   "metadata": {},
   "outputs": [
    {
     "name": "stdout",
     "output_type": "stream",
     "text": [
      "\u001b[0m\u001b[01;34mtopology\u001b[0m/  \u001b[01;34mweights\u001b[0m/\r\n"
     ]
    }
   ],
   "source": [
    "ls model"
   ]
  },
  {
   "cell_type": "code",
   "execution_count": 73,
   "metadata": {},
   "outputs": [],
   "source": [
    "exp_top    = './model/topology/model.json'        # topology\n",
    "exp_weight = './model/weights/nn_weights-800.hdf5' # weight"
   ]
  },
  {
   "cell_type": "code",
   "execution_count": 74,
   "metadata": {},
   "outputs": [],
   "source": [
    "with open(exp_top, 'r') as json_file:\n",
    "    architecture = json.load(json_file)\n",
    "    nn = model_from_json(architecture)\n",
    "    nn.load_weights(exp_weight, by_name=True)"
   ]
  },
  {
   "cell_type": "code",
   "execution_count": 75,
   "metadata": {},
   "outputs": [
    {
     "name": "stdout",
     "output_type": "stream",
     "text": [
      "Model: \"sequential_1\"\n",
      "_________________________________________________________________\n",
      "Layer (type)                 Output Shape              Param #   \n",
      "=================================================================\n",
      "zero_padding2d_1 (ZeroPaddin (None, 16, 16, 8)         0         \n",
      "_________________________________________________________________\n",
      "conv2d_1 (Conv2D)            (None, 8, 8, 16)          1168      \n",
      "_________________________________________________________________\n",
      "batch_normalization_1 (Batch (None, 8, 8, 16)          64        \n",
      "_________________________________________________________________\n",
      "activation_1 (Activation)    (None, 8, 8, 16)          0         \n",
      "_________________________________________________________________\n",
      "dropout_1 (Dropout)          (None, 8, 8, 16)          0         \n",
      "_________________________________________________________________\n",
      "conv2d_2 (Conv2D)            (None, 8, 8, 32)          4640      \n",
      "_________________________________________________________________\n",
      "batch_normalization_2 (Batch (None, 8, 8, 32)          128       \n",
      "_________________________________________________________________\n",
      "activation_2 (Activation)    (None, 8, 8, 32)          0         \n",
      "_________________________________________________________________\n",
      "max_pooling2d_1 (MaxPooling2 (None, 4, 4, 32)          0         \n",
      "_________________________________________________________________\n",
      "conv2d_transpose_1 (Conv2DTr (None, 8, 8, 16)          2064      \n",
      "_________________________________________________________________\n",
      "batch_normalization_3 (Batch (None, 8, 8, 16)          64        \n",
      "_________________________________________________________________\n",
      "activation_3 (Activation)    (None, 8, 8, 16)          0         \n",
      "_________________________________________________________________\n",
      "zero_padding2d_2 (ZeroPaddin (None, 8, 8, 16)          0         \n",
      "_________________________________________________________________\n",
      "conv2d_transpose_2 (Conv2DTr (None, 8, 8, 8)           520       \n",
      "_________________________________________________________________\n",
      "batch_normalization_4 (Batch (None, 8, 8, 8)           32        \n",
      "_________________________________________________________________\n",
      "activation_4 (Activation)    (None, 8, 8, 8)           0         \n",
      "_________________________________________________________________\n",
      "dense_1 (Dense)              (None, 8, 8, 8)           72        \n",
      "=================================================================\n",
      "Total params: 8,752\n",
      "Trainable params: 8,608\n",
      "Non-trainable params: 144\n",
      "_________________________________________________________________\n"
     ]
    }
   ],
   "source": [
    "nn.summary()"
   ]
  },
  {
   "cell_type": "code",
   "execution_count": 76,
   "metadata": {},
   "outputs": [],
   "source": [
    "from baselines.ecr_baseline import baselines"
   ]
  },
  {
   "cell_type": "code",
   "execution_count": 77,
   "metadata": {},
   "outputs": [],
   "source": [
    "orgFile = glob.glob('../baseline/subject00_1_intrp.mat')[0]\n",
    "orgEEG = scipy.io.loadmat(orgFile)['EEG'][0]"
   ]
  },
  {
   "cell_type": "code",
   "execution_count": 79,
   "metadata": {},
   "outputs": [],
   "source": [
    "#orgEEG['chanlocs'][0]"
   ]
  },
  {
   "cell_type": "code",
   "execution_count": 80,
   "metadata": {},
   "outputs": [
    {
     "data": {
      "text/plain": [
       "(21, 91000)"
      ]
     },
     "execution_count": 80,
     "metadata": {},
     "output_type": "execute_result"
    }
   ],
   "source": [
    "orgEEG['data'][0].shape"
   ]
  },
  {
   "cell_type": "code",
   "execution_count": 81,
   "metadata": {},
   "outputs": [],
   "source": [
    "baseline = baselines(orgEEG)"
   ]
  },
  {
   "cell_type": "code",
   "execution_count": 95,
   "metadata": {},
   "outputs": [],
   "source": [
    "eegData = baseline.normalize_data(orgEEG,20,30)"
   ]
  },
  {
   "cell_type": "code",
   "execution_count": 96,
   "metadata": {},
   "outputs": [
    {
     "data": {
      "text/plain": [
       "(8, 8, 8)"
      ]
     },
     "execution_count": 96,
     "metadata": {},
     "output_type": "execute_result"
    }
   ],
   "source": [
    "eegData[2].shape"
   ]
  },
  {
   "cell_type": "code",
   "execution_count": 97,
   "metadata": {},
   "outputs": [],
   "source": [
    "popedData = baseline.occlude(eegData,3,3)"
   ]
  },
  {
   "cell_type": "code",
   "execution_count": 98,
   "metadata": {},
   "outputs": [
    {
     "data": {
      "text/plain": [
       "array([[ 0.06017202,  0.06017202,  0.06017202,  0.06017202,  0.06017202,\n",
       "         0.06017202,  0.06017202,  0.06017202],\n",
       "       [ 0.06017202,  0.06017202, -1.05979623,  0.06017202,  0.06017202,\n",
       "        -0.5808349 ,  0.06017202,  0.06017202],\n",
       "       [ 0.06017202, -0.7170937 , -1.60442477, -1.24187448, -1.24187448,\n",
       "        -1.16752275,  2.13094926,  0.06017202],\n",
       "       [ 0.06017202, -0.49758637, -1.49931111,  0.        , -0.6895707 ,\n",
       "        -0.44820369, -1.05716565,  0.06017202],\n",
       "       [ 0.06017202, -0.49758637, -1.49931111, -0.6895707 , -0.6895707 ,\n",
       "        -0.44820369, -1.05716565,  0.06017202],\n",
       "       [ 0.06017202, -1.44963847, -1.70541392, -0.18030348, -0.18030348,\n",
       "        -0.04880974, -1.03846295,  0.06017202],\n",
       "       [ 0.06017202,  0.06017202, -1.77429762,  0.06017202,  0.06017202,\n",
       "         0.16666314,  0.06017202,  0.06017202],\n",
       "       [ 0.06017202,  0.06017202,  0.06017202,  0.06017202,  0.06017202,\n",
       "         0.06017202,  0.06017202,  0.06017202]])"
      ]
     },
     "execution_count": 98,
     "metadata": {},
     "output_type": "execute_result"
    }
   ],
   "source": [
    "popedData[1][:,:,0]"
   ]
  },
  {
   "cell_type": "code",
   "execution_count": 99,
   "metadata": {},
   "outputs": [],
   "source": [
    "ORG = []\n",
    "EGL = []\n",
    "EUD = []\n",
    "for ii in range(5):\n",
    "    ORG.append(eegData[ii][3,3,:])\n",
    "    EGL.append(baseline.new_EGL(popedData[ii],3,3,2))\n",
    "    EUD.append(baseline.new_EUD(popedData[ii],3,3,2))\n",
    "ORG = np.hstack(ORG)\n",
    "EGL = np.hstack(EGL)\n",
    "EUD = np.hstack(EUD)"
   ]
  },
  {
   "cell_type": "code",
   "execution_count": 100,
   "metadata": {},
   "outputs": [],
   "source": [
    "eegInt = nn.predict(np.array(popedData))"
   ]
  },
  {
   "cell_type": "code",
   "execution_count": null,
   "metadata": {},
   "outputs": [],
   "source": []
  },
  {
   "cell_type": "code",
   "execution_count": 101,
   "metadata": {},
   "outputs": [
    {
     "data": {
      "text/plain": [
       "[<matplotlib.lines.Line2D at 0x7ff4e775e810>]"
      ]
     },
     "execution_count": 101,
     "metadata": {},
     "output_type": "execute_result"
    },
    {
     "data": {
      "image/png": "[encoded data removed]",
      "text/plain": [
       "<Figure size 432x288 with 1 Axes>"
      ]
     },
     "metadata": {
      "needs_background": "light"
     },
     "output_type": "display_data"
    }
   ],
   "source": [
    "plt.plot(range(8*5),ORG)\n",
    "plt.plot(range(8*5),EGL)\n",
    "plt.plot(range(8*5),EUD)\n",
    "plt.plot(range(8*5),eegInt[0:5,3,3,:].flatten())"
   ]
  },
  {
   "cell_type": "code",
   "execution_count": null,
   "metadata": {},
   "outputs": [],
   "source": []
  },
  {
   "cell_type": "code",
   "execution_count": null,
   "metadata": {},
   "outputs": [],
   "source": []
  }
 ],
 "metadata": {
  "kernelspec": {
   "display_name": "Python 3",
   "language": "python",
   "name": "python3"
  },
  "language_info": {
   "codemirror_mode": {
    "name": "ipython",
    "version": 3
   },
   "file_extension": ".py",
   "mimetype": "text/x-python",
   "name": "python",
   "nbconvert_exporter": "python",
   "pygments_lexer": "ipython3",
   "version": "3.7.4"
  }
 },
 "nbformat": 4,
 "nbformat_minor": 2
}
